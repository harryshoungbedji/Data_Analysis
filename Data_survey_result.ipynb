{
 "cells": [
  {
   "cell_type": "markdown",
   "id": "2667138a-b9ef-4fbc-867f-eecc524c7168",
   "metadata": {},
   "source": [
    "# Stackoverflow 2023 Survey results analysis and insights about OSS contributions.\n",
    "\n",
    "The purpose of this projec is to answer the following questions:\n",
    "- What is the average age group of contributors and which country are the top contributors from?\n",
    "- What is the relationship between contributors' educational level and their employement status?\n",
    "- Which language contributors started with and which are they currentluy learning/Using"
   ]
  },
  {
   "cell_type": "code",
   "execution_count": 1,
   "id": "5115716a-fd56-49ea-bd13-a3e551602da9",
   "metadata": {},
   "outputs": [],
   "source": [
    "# importing all necessary library needed to run data"
   ]
  },
  {
   "cell_type": "code",
   "execution_count": 2,
   "id": "a2af3d9d-92ec-483d-b222-6372e2ccb0ba",
   "metadata": {},
   "outputs": [],
   "source": [
    "# %load_ext autoreload\n",
    "# %autoreload 2\n",
    "import pandas as pd\n",
    "import matplotlib.pyplot as plt\n",
    "import utils\n",
    "# import pygwalker as pyg"
   ]
  },
  {
   "cell_type": "code",
   "execution_count": 3,
   "id": "140b1044-7df5-4f9e-808a-87460cec6dbb",
   "metadata": {},
   "outputs": [],
   "source": [
    "# reading file and showing top 5 rows to see the content"
   ]
  },
  {
   "cell_type": "code",
   "execution_count": 4,
   "id": "56cbb16b-7be7-4731-a27d-ec0b9db84406",
   "metadata": {},
   "outputs": [],
   "source": [
    "df = pd.read_csv('survey_results_public.csv')\n",
    "schema = pd.read_csv('survey_results_schema.csv')\n",
    "# pd.set_option('display.max_columns', None)"
   ]
  },
  {
   "cell_type": "code",
   "execution_count": 5,
   "id": "969d001b-d625-4789-860c-49fa134ff198",
   "metadata": {},
   "outputs": [
    {
     "data": {
      "text/plain": [
       "(89184, 84)"
      ]
     },
     "execution_count": 5,
     "metadata": {},
     "output_type": "execute_result"
    }
   ],
   "source": [
    "df.shape"
   ]
  },
  {
   "cell_type": "code",
   "execution_count": 6,
   "id": "04c6823e-70a6-44b2-9766-45ba6cb5036a",
   "metadata": {},
   "outputs": [
    {
     "data": {
      "text/plain": [
       "Index(['ResponseId', 'Q120', 'MainBranch', 'Age', 'Employment', 'RemoteWork',\n",
       "       'CodingActivities', 'EdLevel', 'LearnCode', 'LearnCodeOnline',\n",
       "       'LearnCodeCoursesCert', 'YearsCode', 'YearsCodePro', 'DevType',\n",
       "       'OrgSize', 'PurchaseInfluence', 'TechList', 'BuyNewTool', 'Country',\n",
       "       'Currency', 'CompTotal', 'LanguageHaveWorkedWith',\n",
       "       'LanguageWantToWorkWith', 'DatabaseHaveWorkedWith',\n",
       "       'DatabaseWantToWorkWith', 'PlatformHaveWorkedWith',\n",
       "       'PlatformWantToWorkWith', 'WebframeHaveWorkedWith',\n",
       "       'WebframeWantToWorkWith', 'MiscTechHaveWorkedWith',\n",
       "       'MiscTechWantToWorkWith', 'ToolsTechHaveWorkedWith',\n",
       "       'ToolsTechWantToWorkWith', 'NEWCollabToolsHaveWorkedWith',\n",
       "       'NEWCollabToolsWantToWorkWith', 'OpSysPersonal use',\n",
       "       'OpSysProfessional use', 'OfficeStackAsyncHaveWorkedWith',\n",
       "       'OfficeStackAsyncWantToWorkWith', 'OfficeStackSyncHaveWorkedWith',\n",
       "       'OfficeStackSyncWantToWorkWith', 'AISearchHaveWorkedWith',\n",
       "       'AISearchWantToWorkWith', 'AIDevHaveWorkedWith', 'AIDevWantToWorkWith',\n",
       "       'NEWSOSites', 'SOVisitFreq', 'SOAccount', 'SOPartFreq', 'SOComm',\n",
       "       'SOAI', 'AISelect', 'AISent', 'AIAcc', 'AIBen',\n",
       "       'AIToolInterested in Using', 'AIToolCurrently Using',\n",
       "       'AIToolNot interested in Using', 'AINextVery different',\n",
       "       'AINextNeither different nor similar', 'AINextSomewhat similar',\n",
       "       'AINextVery similar', 'AINextSomewhat different', 'TBranch', 'ICorPM',\n",
       "       'WorkExp', 'Knowledge_1', 'Knowledge_2', 'Knowledge_3', 'Knowledge_4',\n",
       "       'Knowledge_5', 'Knowledge_6', 'Knowledge_7', 'Knowledge_8',\n",
       "       'Frequency_1', 'Frequency_2', 'Frequency_3', 'TimeSearching',\n",
       "       'TimeAnswering', 'ProfessionalTech', 'Industry', 'SurveyLength',\n",
       "       'SurveyEase', 'ConvertedCompYearly'],\n",
       "      dtype='object')"
      ]
     },
     "execution_count": 6,
     "metadata": {},
     "output_type": "execute_result"
    }
   ],
   "source": [
    "df.columns"
   ]
  },
  {
   "cell_type": "code",
   "execution_count": 7,
   "id": "1b217aa2-c6b2-4178-a20e-85ee3ec42f36",
   "metadata": {},
   "outputs": [
    {
     "data": {
      "text/html": [
       "<div>\n",
       "<style scoped>\n",
       "    .dataframe tbody tr th:only-of-type {\n",
       "        vertical-align: middle;\n",
       "    }\n",
       "\n",
       "    .dataframe tbody tr th {\n",
       "        vertical-align: top;\n",
       "    }\n",
       "\n",
       "    .dataframe thead th {\n",
       "        text-align: right;\n",
       "    }\n",
       "</style>\n",
       "<table border=\"1\" class=\"dataframe\">\n",
       "  <thead>\n",
       "    <tr style=\"text-align: right;\">\n",
       "      <th></th>\n",
       "      <th>qid</th>\n",
       "      <th>qname</th>\n",
       "      <th>question</th>\n",
       "      <th>force_resp</th>\n",
       "      <th>type</th>\n",
       "      <th>selector</th>\n",
       "    </tr>\n",
       "  </thead>\n",
       "  <tbody>\n",
       "    <tr>\n",
       "      <th>0</th>\n",
       "      <td>QID16</td>\n",
       "      <td>S0</td>\n",
       "      <td>&lt;div&gt;&lt;span style=\"font-size:19px;\"&gt;&lt;strong&gt;Hel...</td>\n",
       "      <td>False</td>\n",
       "      <td>DB</td>\n",
       "      <td>TB</td>\n",
       "    </tr>\n",
       "    <tr>\n",
       "      <th>1</th>\n",
       "      <td>QID12</td>\n",
       "      <td>MetaInfo</td>\n",
       "      <td>Browser Meta Info</td>\n",
       "      <td>False</td>\n",
       "      <td>Meta</td>\n",
       "      <td>Browser</td>\n",
       "    </tr>\n",
       "    <tr>\n",
       "      <th>2</th>\n",
       "      <td>QID310</td>\n",
       "      <td>Q310</td>\n",
       "      <td>&lt;div&gt;&lt;span style=\"font-size:19px;\"&gt;&lt;strong&gt;You...</td>\n",
       "      <td>False</td>\n",
       "      <td>DB</td>\n",
       "      <td>TB</td>\n",
       "    </tr>\n",
       "    <tr>\n",
       "      <th>3</th>\n",
       "      <td>QID312</td>\n",
       "      <td>Q120</td>\n",
       "      <td></td>\n",
       "      <td>True</td>\n",
       "      <td>MC</td>\n",
       "      <td>SAVR</td>\n",
       "    </tr>\n",
       "    <tr>\n",
       "      <th>4</th>\n",
       "      <td>QID1</td>\n",
       "      <td>S1</td>\n",
       "      <td>&lt;span style=\"font-size:22px; font-family: aria...</td>\n",
       "      <td>False</td>\n",
       "      <td>DB</td>\n",
       "      <td>TB</td>\n",
       "    </tr>\n",
       "    <tr>\n",
       "      <th>...</th>\n",
       "      <td>...</td>\n",
       "      <td>...</td>\n",
       "      <td>...</td>\n",
       "      <td>...</td>\n",
       "      <td>...</td>\n",
       "      <td>...</td>\n",
       "    </tr>\n",
       "    <tr>\n",
       "      <th>73</th>\n",
       "      <td>QID289</td>\n",
       "      <td>Knowledge_7</td>\n",
       "      <td>Waiting on answers to questions often causes i...</td>\n",
       "      <td>NaN</td>\n",
       "      <td>MC</td>\n",
       "      <td>MAVR</td>\n",
       "    </tr>\n",
       "    <tr>\n",
       "      <th>74</th>\n",
       "      <td>QID289</td>\n",
       "      <td>Knowledge_8</td>\n",
       "      <td>I feel like I have the tools and/or resources ...</td>\n",
       "      <td>NaN</td>\n",
       "      <td>MC</td>\n",
       "      <td>MAVR</td>\n",
       "    </tr>\n",
       "    <tr>\n",
       "      <th>75</th>\n",
       "      <td>QID290</td>\n",
       "      <td>Frequency_1</td>\n",
       "      <td>Needing help from people outside of your immed...</td>\n",
       "      <td>NaN</td>\n",
       "      <td>MC</td>\n",
       "      <td>MAVR</td>\n",
       "    </tr>\n",
       "    <tr>\n",
       "      <th>76</th>\n",
       "      <td>QID290</td>\n",
       "      <td>Frequency_2</td>\n",
       "      <td>Interacting with people outside of your immedi...</td>\n",
       "      <td>NaN</td>\n",
       "      <td>MC</td>\n",
       "      <td>MAVR</td>\n",
       "    </tr>\n",
       "    <tr>\n",
       "      <th>77</th>\n",
       "      <td>QID290</td>\n",
       "      <td>Frequency_3</td>\n",
       "      <td>Encountering knowledge silos (where one indivi...</td>\n",
       "      <td>NaN</td>\n",
       "      <td>MC</td>\n",
       "      <td>MAVR</td>\n",
       "    </tr>\n",
       "  </tbody>\n",
       "</table>\n",
       "<p>78 rows × 6 columns</p>\n",
       "</div>"
      ],
      "text/plain": [
       "       qid        qname                                           question  \\\n",
       "0    QID16           S0  <div><span style=\"font-size:19px;\"><strong>Hel...   \n",
       "1    QID12     MetaInfo                                  Browser Meta Info   \n",
       "2   QID310         Q310  <div><span style=\"font-size:19px;\"><strong>You...   \n",
       "3   QID312         Q120                                                      \n",
       "4     QID1           S1  <span style=\"font-size:22px; font-family: aria...   \n",
       "..     ...          ...                                                ...   \n",
       "73  QID289  Knowledge_7  Waiting on answers to questions often causes i...   \n",
       "74  QID289  Knowledge_8  I feel like I have the tools and/or resources ...   \n",
       "75  QID290  Frequency_1  Needing help from people outside of your immed...   \n",
       "76  QID290  Frequency_2  Interacting with people outside of your immedi...   \n",
       "77  QID290  Frequency_3  Encountering knowledge silos (where one indivi...   \n",
       "\n",
       "   force_resp  type selector  \n",
       "0       False    DB       TB  \n",
       "1       False  Meta  Browser  \n",
       "2       False    DB       TB  \n",
       "3        True    MC     SAVR  \n",
       "4       False    DB       TB  \n",
       "..        ...   ...      ...  \n",
       "73        NaN    MC     MAVR  \n",
       "74        NaN    MC     MAVR  \n",
       "75        NaN    MC     MAVR  \n",
       "76        NaN    MC     MAVR  \n",
       "77        NaN    MC     MAVR  \n",
       "\n",
       "[78 rows x 6 columns]"
      ]
     },
     "execution_count": 7,
     "metadata": {},
     "output_type": "execute_result"
    }
   ],
   "source": [
    "schema"
   ]
  },
  {
   "cell_type": "code",
   "execution_count": 8,
   "id": "e9ddce49-fb11-4cf8-9165-66a8bac71b35",
   "metadata": {},
   "outputs": [],
   "source": [
    "# Droping columns that irrelevant to the data"
   ]
  },
  {
   "cell_type": "code",
   "execution_count": 9,
   "id": "b059da58-f425-4eeb-8148-188c82463c7a",
   "metadata": {},
   "outputs": [],
   "source": [
    "# df.drop(columns=df.columns[33:74], inplace=True)"
   ]
  },
  {
   "cell_type": "code",
   "execution_count": 10,
   "id": "8b9f48b1-bd6c-4d19-ad35-b0e9ebe58449",
   "metadata": {},
   "outputs": [],
   "source": [
    "df.drop(columns=df.columns[33:74]).shape\n",
    "df = df.rename(columns={\"United Kingdom of Great Britain and Northern Ireland  \": \"UK & Ireland\"})\n"
   ]
  },
  {
   "cell_type": "code",
   "execution_count": 11,
   "id": "4e7ac3bd-45bb-460a-86e4-247f05f85fec",
   "metadata": {},
   "outputs": [],
   "source": [
    "# Checking the ratio of missing values in the Dataframe "
   ]
  },
  {
   "cell_type": "code",
   "execution_count": 12,
   "id": "49e13a87-5ad3-49dc-b4be-14f643c6d017",
   "metadata": {},
   "outputs": [
    {
     "data": {
      "text/html": [
       "<div>\n",
       "<style scoped>\n",
       "    .dataframe tbody tr th:only-of-type {\n",
       "        vertical-align: middle;\n",
       "    }\n",
       "\n",
       "    .dataframe tbody tr th {\n",
       "        vertical-align: top;\n",
       "    }\n",
       "\n",
       "    .dataframe thead th {\n",
       "        text-align: right;\n",
       "    }\n",
       "</style>\n",
       "<table border=\"1\" class=\"dataframe\">\n",
       "  <thead>\n",
       "    <tr style=\"text-align: right;\">\n",
       "      <th></th>\n",
       "      <th>column_name</th>\n",
       "      <th>percent_missing</th>\n",
       "    </tr>\n",
       "  </thead>\n",
       "  <tbody>\n",
       "    <tr>\n",
       "      <th>ResponseId</th>\n",
       "      <td>ResponseId</td>\n",
       "      <td>0.000000</td>\n",
       "    </tr>\n",
       "    <tr>\n",
       "      <th>Q120</th>\n",
       "      <td>Q120</td>\n",
       "      <td>0.000000</td>\n",
       "    </tr>\n",
       "    <tr>\n",
       "      <th>MainBranch</th>\n",
       "      <td>MainBranch</td>\n",
       "      <td>0.000000</td>\n",
       "    </tr>\n",
       "    <tr>\n",
       "      <th>Age</th>\n",
       "      <td>Age</td>\n",
       "      <td>0.000000</td>\n",
       "    </tr>\n",
       "    <tr>\n",
       "      <th>EdLevel</th>\n",
       "      <td>EdLevel</td>\n",
       "      <td>1.357867</td>\n",
       "    </tr>\n",
       "    <tr>\n",
       "      <th>AISelect</th>\n",
       "      <td>AISelect</td>\n",
       "      <td>1.357867</td>\n",
       "    </tr>\n",
       "    <tr>\n",
       "      <th>NEWSOSites</th>\n",
       "      <td>NEWSOSites</td>\n",
       "      <td>1.357867</td>\n",
       "    </tr>\n",
       "    <tr>\n",
       "      <th>Country</th>\n",
       "      <td>Country</td>\n",
       "      <td>1.357867</td>\n",
       "    </tr>\n",
       "    <tr>\n",
       "      <th>Employment</th>\n",
       "      <td>Employment</td>\n",
       "      <td>1.441963</td>\n",
       "    </tr>\n",
       "    <tr>\n",
       "      <th>SOAccount</th>\n",
       "      <td>SOAccount</td>\n",
       "      <td>1.493541</td>\n",
       "    </tr>\n",
       "    <tr>\n",
       "      <th>SOComm</th>\n",
       "      <td>SOComm</td>\n",
       "      <td>1.672946</td>\n",
       "    </tr>\n",
       "    <tr>\n",
       "      <th>LearnCode</th>\n",
       "      <td>LearnCode</td>\n",
       "      <td>1.705463</td>\n",
       "    </tr>\n",
       "    <tr>\n",
       "      <th>YearsCode</th>\n",
       "      <td>YearsCode</td>\n",
       "      <td>1.961114</td>\n",
       "    </tr>\n",
       "    <tr>\n",
       "      <th>LanguageHaveWorkedWith</th>\n",
       "      <td>LanguageHaveWorkedWith</td>\n",
       "      <td>2.291891</td>\n",
       "    </tr>\n",
       "    <tr>\n",
       "      <th>SOVisitFreq</th>\n",
       "      <td>SOVisitFreq</td>\n",
       "      <td>2.291891</td>\n",
       "    </tr>\n",
       "    <tr>\n",
       "      <th>OpSysPersonal use</th>\n",
       "      <td>OpSysPersonal use</td>\n",
       "      <td>2.945596</td>\n",
       "    </tr>\n",
       "    <tr>\n",
       "      <th>SurveyEase</th>\n",
       "      <td>SurveyEase</td>\n",
       "      <td>2.948959</td>\n",
       "    </tr>\n",
       "    <tr>\n",
       "      <th>SurveyLength</th>\n",
       "      <td>SurveyLength</td>\n",
       "      <td>3.026328</td>\n",
       "    </tr>\n",
       "    <tr>\n",
       "      <th>NEWCollabToolsHaveWorkedWith</th>\n",
       "      <td>NEWCollabToolsHaveWorkedWith</td>\n",
       "      <td>3.722641</td>\n",
       "    </tr>\n",
       "    <tr>\n",
       "      <th>OfficeStackSyncHaveWorkedWith</th>\n",
       "      <td>OfficeStackSyncHaveWorkedWith</td>\n",
       "      <td>6.441738</td>\n",
       "    </tr>\n",
       "    <tr>\n",
       "      <th>BuyNewTool</th>\n",
       "      <td>BuyNewTool</td>\n",
       "      <td>6.923888</td>\n",
       "    </tr>\n",
       "    <tr>\n",
       "      <th>LanguageWantToWorkWith</th>\n",
       "      <td>LanguageWantToWorkWith</td>\n",
       "      <td>9.502826</td>\n",
       "    </tr>\n",
       "    <tr>\n",
       "      <th>OpSysProfessional use</th>\n",
       "      <td>OpSysProfessional use</td>\n",
       "      <td>11.882176</td>\n",
       "    </tr>\n",
       "    <tr>\n",
       "      <th>ToolsTechHaveWorkedWith</th>\n",
       "      <td>ToolsTechHaveWorkedWith</td>\n",
       "      <td>12.670434</td>\n",
       "    </tr>\n",
       "    <tr>\n",
       "      <th>DevType</th>\n",
       "      <td>DevType</td>\n",
       "      <td>13.805167</td>\n",
       "    </tr>\n",
       "    <tr>\n",
       "      <th>NEWCollabToolsWantToWorkWith</th>\n",
       "      <td>NEWCollabToolsWantToWorkWith</td>\n",
       "      <td>14.055212</td>\n",
       "    </tr>\n",
       "    <tr>\n",
       "      <th>RemoteWork</th>\n",
       "      <td>RemoteWork</td>\n",
       "      <td>17.238518</td>\n",
       "    </tr>\n",
       "    <tr>\n",
       "      <th>CodingActivities</th>\n",
       "      <td>CodingActivities</td>\n",
       "      <td>17.290097</td>\n",
       "    </tr>\n",
       "    <tr>\n",
       "      <th>DatabaseHaveWorkedWith</th>\n",
       "      <td>DatabaseHaveWorkedWith</td>\n",
       "      <td>17.658997</td>\n",
       "    </tr>\n",
       "    <tr>\n",
       "      <th>LearnCodeOnline</th>\n",
       "      <td>LearnCodeOnline</td>\n",
       "      <td>21.416398</td>\n",
       "    </tr>\n",
       "  </tbody>\n",
       "</table>\n",
       "</div>"
      ],
      "text/plain": [
       "                                                 column_name  percent_missing\n",
       "ResponseId                                        ResponseId         0.000000\n",
       "Q120                                                    Q120         0.000000\n",
       "MainBranch                                        MainBranch         0.000000\n",
       "Age                                                      Age         0.000000\n",
       "EdLevel                                              EdLevel         1.357867\n",
       "AISelect                                            AISelect         1.357867\n",
       "NEWSOSites                                        NEWSOSites         1.357867\n",
       "Country                                              Country         1.357867\n",
       "Employment                                        Employment         1.441963\n",
       "SOAccount                                          SOAccount         1.493541\n",
       "SOComm                                                SOComm         1.672946\n",
       "LearnCode                                          LearnCode         1.705463\n",
       "YearsCode                                          YearsCode         1.961114\n",
       "LanguageHaveWorkedWith                LanguageHaveWorkedWith         2.291891\n",
       "SOVisitFreq                                      SOVisitFreq         2.291891\n",
       "OpSysPersonal use                          OpSysPersonal use         2.945596\n",
       "SurveyEase                                        SurveyEase         2.948959\n",
       "SurveyLength                                    SurveyLength         3.026328\n",
       "NEWCollabToolsHaveWorkedWith    NEWCollabToolsHaveWorkedWith         3.722641\n",
       "OfficeStackSyncHaveWorkedWith  OfficeStackSyncHaveWorkedWith         6.441738\n",
       "BuyNewTool                                        BuyNewTool         6.923888\n",
       "LanguageWantToWorkWith                LanguageWantToWorkWith         9.502826\n",
       "OpSysProfessional use                  OpSysProfessional use        11.882176\n",
       "ToolsTechHaveWorkedWith              ToolsTechHaveWorkedWith        12.670434\n",
       "DevType                                              DevType        13.805167\n",
       "NEWCollabToolsWantToWorkWith    NEWCollabToolsWantToWorkWith        14.055212\n",
       "RemoteWork                                        RemoteWork        17.238518\n",
       "CodingActivities                            CodingActivities        17.290097\n",
       "DatabaseHaveWorkedWith                DatabaseHaveWorkedWith        17.658997\n",
       "LearnCodeOnline                              LearnCodeOnline        21.416398"
      ]
     },
     "execution_count": 12,
     "metadata": {},
     "output_type": "execute_result"
    }
   ],
   "source": [
    "percent_missing = df.isnull().sum() * 100 / len(df)\n",
    "missing_value_df = pd.DataFrame({'column_name': df.columns,'percent_missing': percent_missing})\n",
    "missing_value_df.sort_values('percent_missing')[:30]"
   ]
  },
  {
   "cell_type": "code",
   "execution_count": 13,
   "id": "d84eb136-daa6-4ca5-8902-6bce58be5d72",
   "metadata": {},
   "outputs": [
    {
     "name": "stdout",
     "output_type": "stream",
     "text": [
      "columns with no missing values:  {'Age', 'ResponseId', 'Q120', 'MainBranch'}\n"
     ]
    }
   ],
   "source": [
    "print(\"columns with no missing values: \", set(df.columns[df.isnull().mean() == 0.0]))"
   ]
  },
  {
   "cell_type": "markdown",
   "id": "3f888600-c590-4257-835b-e4b28ae8644b",
   "metadata": {},
   "source": [
    "# 2. Data Analysis"
   ]
  },
  {
   "cell_type": "markdown",
   "id": "a955bb5b-6d58-4133-aca7-fb87b08ca1e5",
   "metadata": {},
   "source": [
    "#### Age Group of all repondents"
   ]
  },
  {
   "cell_type": "code",
   "execution_count": 14,
   "id": "948bd332-f3bd-45c5-a415-2582b93c716f",
   "metadata": {},
   "outputs": [
    {
     "data": {
      "text/plain": [
       "Age\n",
       "65 years or older      1.313016\n",
       "55-64 years old        3.803373\n",
       "Under 18 years old     4.628633\n",
       "45-54 years old        9.344726\n",
       "18-24 years old       20.105624\n",
       "35-44 years old       23.022067\n",
       "25-34 years old       37.279108\n",
       "Name: count, dtype: float64"
      ]
     },
     "execution_count": 14,
     "metadata": {},
     "output_type": "execute_result"
    }
   ],
   "source": [
    "age_vals = df.Age.value_counts(ascending = True)\n",
    "age_vals_percentage = (age_vals[1:] * 100 / df.Age.dropna().shape[0])\n",
    "age_vals_percentage"
   ]
  },
  {
   "cell_type": "markdown",
   "id": "b5dac114-6286-4576-882e-9507cf7a110a",
   "metadata": {},
   "source": [
    "### Question 1: What is the average age group of contributors and which country are the top contributors from?"
   ]
  },
  {
   "cell_type": "code",
   "execution_count": 23,
   "id": "b7167584-0e0e-4576-a366-7625d7b3b709",
   "metadata": {},
   "outputs": [
    {
     "data": {
      "image/png": "[encoded data removed]",
      "text/plain": [
       "<Figure size 800x500 with 1 Axes>"
      ]
     },
     "metadata": {},
     "output_type": "display_data"
    }
   ],
   "source": [
    "plt.ylabel(\"Age in %\")\n",
    "plt.title(\"Average Respondant Age Group\")\n",
    "ax = age_vals_percentage.sort_values(ascending = False).plot(kind=\"bar\",figsize=(8,5), width = .7, edgecolor=None, color=\"steelblue\")\n",
    "plt.show()\n",
    "\n"
   ]
  },
  {
   "cell_type": "markdown",
   "id": "6fe9e722-7d15-4832-8f02-619ed1225aab",
   "metadata": {},
   "source": [
    "### Number of survey respondents by country "
   ]
  },
  {
   "cell_type": "code",
   "execution_count": 16,
   "id": "8bcd9b03-0b5e-418f-8430-03b569af61be",
   "metadata": {},
   "outputs": [],
   "source": [
    "numb_respby_country = df.Country.value_counts(ascending = False).head(10)"
   ]
  },
  {
   "cell_type": "code",
   "execution_count": 17,
   "id": "98cdbaa1-44cb-4e44-9bd4-66470bd0a736",
   "metadata": {},
   "outputs": [
    {
     "data": {
      "text/plain": [
       "Country\n",
       "United States of America                                18647\n",
       "Germany                                                  7328\n",
       "India                                                    5625\n",
       "United Kingdom of Great Britain and Northern Ireland     5552\n",
       "Canada                                                   3507\n",
       "France                                                   2933\n",
       "Poland                                                   2435\n",
       "Netherlands                                              2383\n",
       "Australia                                                2078\n",
       "Brazil                                                   2042\n",
       "Name: count, dtype: int64"
      ]
     },
     "execution_count": 17,
     "metadata": {},
     "output_type": "execute_result"
    }
   ],
   "source": [
    "numb_respby_country"
   ]
  },
  {
   "cell_type": "code",
   "execution_count": 18,
   "id": "5dd37c04-7dff-45b4-b399-1c7a09493c9e",
   "metadata": {},
   "outputs": [
    {
     "data": {
      "image/png": "[encoded data removed]",
      "text/plain": [
       "<Figure size 640x480 with 1 Axes>"
      ]
     },
     "metadata": {},
     "output_type": "display_data"
    }
   ],
   "source": [
    "plt.ylabel(\"Respondents %\")\n",
    "plt.title(\"Cuntributors by countries\");\n",
    "numb_respby_country.plot.bar();\n"
   ]
  },
  {
   "cell_type": "markdown",
   "id": "c3072c2f-ca9f-4a2e-aa83-66a72a93260f",
   "metadata": {},
   "source": [
    "### Education Level vs Employement"
   ]
  },
  {
   "cell_type": "code",
   "execution_count": 19,
   "id": "bf5e81af-542c-4166-b474-eb775df6f405",
   "metadata": {},
   "outputs": [
    {
     "data": {
      "text/plain": [
       "0                                                   NaN\n",
       "1          Bachelor’s degree (B.A., B.S., B.Eng., etc.)\n",
       "2          Bachelor’s degree (B.A., B.S., B.Eng., etc.)\n",
       "3          Bachelor’s degree (B.A., B.S., B.Eng., etc.)\n",
       "4          Bachelor’s degree (B.A., B.S., B.Eng., etc.)\n",
       "5     Some college/university study without earning ...\n",
       "6     Some college/university study without earning ...\n",
       "7          Bachelor’s degree (B.A., B.S., B.Eng., etc.)\n",
       "8       Master’s degree (M.A., M.S., M.Eng., MBA, etc.)\n",
       "9          Bachelor’s degree (B.A., B.S., B.Eng., etc.)\n",
       "10         Bachelor’s degree (B.A., B.S., B.Eng., etc.)\n",
       "11         Bachelor’s degree (B.A., B.S., B.Eng., etc.)\n",
       "12         Bachelor’s degree (B.A., B.S., B.Eng., etc.)\n",
       "13      Master’s degree (M.A., M.S., M.Eng., MBA, etc.)\n",
       "14      Master’s degree (M.A., M.S., M.Eng., MBA, etc.)\n",
       "15      Master’s degree (M.A., M.S., M.Eng., MBA, etc.)\n",
       "16         Bachelor’s degree (B.A., B.S., B.Eng., etc.)\n",
       "17      Master’s degree (M.A., M.S., M.Eng., MBA, etc.)\n",
       "18                            Primary/elementary school\n",
       "19    Some college/university study without earning ...\n",
       "Name: EdLevel, dtype: object"
      ]
     },
     "execution_count": 19,
     "metadata": {},
     "output_type": "execute_result"
    }
   ],
   "source": [
    "df.EdLevel.head(20)"
   ]
  },
  {
   "cell_type": "code",
   "execution_count": 20,
   "id": "ef82f555-9040-402b-b86e-03c65ef0f112",
   "metadata": {},
   "outputs": [
    {
     "data": {
      "text/plain": [
       "array([nan, 'Employed, full-time',\n",
       "       'Employed, full-time;Independent contractor, freelancer, or self-employed',\n",
       "       'Not employed, but looking for work',\n",
       "       'Independent contractor, freelancer, or self-employed',\n",
       "       'Student, full-time',\n",
       "       'Independent contractor, freelancer, or self-employed;Employed, part-time;Student, part-time',\n",
       "       'Not employed, but looking for work;Student, full-time',\n",
       "       'Employed, part-time;Student, part-time', 'Employed, part-time',\n",
       "       'Student, full-time;Employed, part-time', 'I prefer not to say',\n",
       "       'Employed, full-time;Independent contractor, freelancer, or self-employed;Employed, part-time',\n",
       "       'Employed, full-time;Student, part-time',\n",
       "       'Not employed, but looking for work;Employed, part-time',\n",
       "       'Employed, full-time;Independent contractor, freelancer, or self-employed;Student, part-time',\n",
       "       'Retired', 'Employed, full-time;Student, full-time',\n",
       "       'Student, full-time;Student, part-time',\n",
       "       'Independent contractor, freelancer, or self-employed;Student, full-time',\n",
       "       'Not employed, and not looking for work', 'Student, part-time',\n",
       "       'Student, full-time;Not employed, and not looking for work',\n",
       "       'Employed, full-time;Independent contractor, freelancer, or self-employed;Not employed, but looking for work',\n",
       "       'Employed, full-time;Employed, part-time',\n",
       "       'Employed, full-time;Independent contractor, freelancer, or self-employed;Not employed, but looking for work;Not employed, and not looking for work',\n",
       "       'Independent contractor, freelancer, or self-employed;Student, part-time',\n",
       "       'Independent contractor, freelancer, or self-employed;Not employed, but looking for work;Student, part-time',\n",
       "       'Independent contractor, freelancer, or self-employed;Not employed, and not looking for work',\n",
       "       'Student, full-time;Employed, part-time;Not employed, and not looking for work',\n",
       "       'Not employed, but looking for work;Student, part-time',\n",
       "       'Independent contractor, freelancer, or self-employed;Not employed, but looking for work',\n",
       "       'Independent contractor, freelancer, or self-employed;Student, full-time;Employed, part-time',\n",
       "       'Independent contractor, freelancer, or self-employed;Not employed, but looking for work;Student, full-time',\n",
       "       'Independent contractor, freelancer, or self-employed;Employed, part-time',\n",
       "       'Employed, full-time;Employed, part-time;Student, part-time',\n",
       "       'Not employed, but looking for work;Student, full-time;Student, part-time',\n",
       "       'Independent contractor, freelancer, or self-employed;Not employed, but looking for work;Employed, part-time',\n",
       "       'Student, part-time;Not employed, and not looking for work',\n",
       "       'Employed, full-time;Independent contractor, freelancer, or self-employed;Student, full-time',\n",
       "       'Employed, full-time;Independent contractor, freelancer, or self-employed;Employed, part-time;Student, part-time',\n",
       "       'Independent contractor, freelancer, or self-employed;Employed, part-time;Retired',\n",
       "       'Not employed, but looking for work;Not employed, and not looking for work',\n",
       "       'Retired;Not employed, and not looking for work',\n",
       "       'Independent contractor, freelancer, or self-employed;Retired',\n",
       "       'Independent contractor, freelancer, or self-employed;Not employed, but looking for work;Not employed, and not looking for work',\n",
       "       'Employed, full-time;Student, full-time;Employed, part-time',\n",
       "       'Independent contractor, freelancer, or self-employed;Student, full-time;Not employed, and not looking for work',\n",
       "       'Employed, full-time;Not employed, but looking for work',\n",
       "       'Not employed, but looking for work;Employed, part-time;Student, part-time',\n",
       "       'Student, full-time;Employed, part-time;Student, part-time',\n",
       "       'Independent contractor, freelancer, or self-employed;Student, part-time;Not employed, and not looking for work',\n",
       "       'Independent contractor, freelancer, or self-employed;Student, full-time;Employed, part-time;Student, part-time',\n",
       "       'Employed, full-time;Independent contractor, freelancer, or self-employed;Student, full-time;Retired',\n",
       "       'Employed, full-time;Independent contractor, freelancer, or self-employed;Not employed, but looking for work;Student, full-time;Employed, part-time;Student, part-time',\n",
       "       'Employed, full-time;Independent contractor, freelancer, or self-employed;Student, full-time;Student, part-time',\n",
       "       'Employed, full-time;Not employed, and not looking for work',\n",
       "       'Employed, full-time;Independent contractor, freelancer, or self-employed;Student, full-time;Employed, part-time;Student, part-time',\n",
       "       'Not employed, but looking for work;Student, full-time;Not employed, and not looking for work',\n",
       "       'Employed, full-time;Independent contractor, freelancer, or self-employed;Not employed, but looking for work;Employed, part-time',\n",
       "       'Employed, full-time;Not employed, but looking for work;Student, full-time;Student, part-time',\n",
       "       'Employed, full-time;Independent contractor, freelancer, or self-employed;Student, full-time;Employed, part-time',\n",
       "       'Not employed, but looking for work;Student, full-time;Employed, part-time',\n",
       "       'Employed, full-time;Not employed, but looking for work;Student, part-time',\n",
       "       'Independent contractor, freelancer, or self-employed;Student, part-time;Retired',\n",
       "       'Employed, part-time;Student, part-time;Retired',\n",
       "       'Employed, full-time;Retired', 'Employed, part-time;Retired',\n",
       "       'Employed, full-time;Not employed, but looking for work;Student, full-time',\n",
       "       'Employed, full-time;Independent contractor, freelancer, or self-employed;Not employed, but looking for work;Student, full-time;Employed, part-time;Student, part-time;Not employed, and not looking for work',\n",
       "       'Employed, full-time;Independent contractor, freelancer, or self-employed;Not employed, and not looking for work',\n",
       "       'Independent contractor, freelancer, or self-employed;Not employed, but looking for work;Retired',\n",
       "       'Independent contractor, freelancer, or self-employed;Not employed, but looking for work;Employed, part-time;Student, part-time',\n",
       "       'Employed, full-time;Independent contractor, freelancer, or self-employed;Student, full-time;Not employed, and not looking for work',\n",
       "       'Independent contractor, freelancer, or self-employed;Not employed, but looking for work;Student, full-time;Employed, part-time',\n",
       "       'Independent contractor, freelancer, or self-employed;Not employed, but looking for work;Employed, part-time;Not employed, and not looking for work',\n",
       "       'Student, full-time;Retired',\n",
       "       'Employed, full-time;Student, full-time;Employed, part-time;Student, part-time',\n",
       "       'Employed, full-time;Independent contractor, freelancer, or self-employed;Retired',\n",
       "       'Not employed, but looking for work;Student, full-time;Student, part-time;Not employed, and not looking for work',\n",
       "       'Student, full-time;Student, part-time;Not employed, and not looking for work',\n",
       "       'Not employed, but looking for work;Retired',\n",
       "       'Employed, full-time;Student, full-time;Retired',\n",
       "       'Independent contractor, freelancer, or self-employed;Not employed, but looking for work;Student, part-time;Retired',\n",
       "       'Independent contractor, freelancer, or self-employed;Not employed, but looking for work;Student, full-time;Not employed, and not looking for work',\n",
       "       'Independent contractor, freelancer, or self-employed;Retired;Not employed, and not looking for work',\n",
       "       'Employed, full-time;Independent contractor, freelancer, or self-employed;Not employed, but looking for work;Student, full-time;Student, part-time',\n",
       "       'Independent contractor, freelancer, or self-employed;Student, full-time;Student, part-time',\n",
       "       'Employed, full-time;Independent contractor, freelancer, or self-employed;Not employed, but looking for work;Employed, part-time;Not employed, and not looking for work',\n",
       "       'Independent contractor, freelancer, or self-employed;Student, full-time;Retired',\n",
       "       'Employed, full-time;Independent contractor, freelancer, or self-employed;Not employed, but looking for work;Student, full-time;Employed, part-time;Student, part-time;Retired;Not employed, and not looking for work',\n",
       "       'Independent contractor, freelancer, or self-employed;Not employed, but looking for work;Student, full-time;Student, part-time',\n",
       "       'Employed, part-time;Not employed, and not looking for work',\n",
       "       'Employed, full-time;Independent contractor, freelancer, or self-employed;Not employed, but looking for work;Retired',\n",
       "       'Employed, full-time;Student, part-time;Retired',\n",
       "       'Employed, full-time;Not employed, but looking for work;Employed, part-time',\n",
       "       'Not employed, but looking for work;Student, part-time;Not employed, and not looking for work',\n",
       "       'Independent contractor, freelancer, or self-employed;Not employed, but looking for work;Student, full-time;Student, part-time;Not employed, and not looking for work',\n",
       "       'Employed, full-time;Student, full-time;Student, part-time',\n",
       "       'Independent contractor, freelancer, or self-employed;Student, full-time;Employed, part-time;Not employed, and not looking for work',\n",
       "       'Employed, full-time;Student, full-time;Not employed, and not looking for work',\n",
       "       'Not employed, but looking for work;Student, full-time;Employed, part-time;Student, part-time',\n",
       "       'Independent contractor, freelancer, or self-employed;Student, full-time;Student, part-time;Not employed, and not looking for work',\n",
       "       'Employed, full-time;Student, full-time;Employed, part-time;Student, part-time;Not employed, and not looking for work',\n",
       "       'Independent contractor, freelancer, or self-employed;Not employed, but looking for work;Employed, part-time;Retired',\n",
       "       'Employed, full-time;Not employed, but looking for work;Student, full-time;Employed, part-time;Student, part-time',\n",
       "       'Employed, full-time;Not employed, but looking for work;Employed, part-time;Student, part-time'],\n",
       "      dtype=object)"
      ]
     },
     "execution_count": 20,
     "metadata": {},
     "output_type": "execute_result"
    }
   ],
   "source": [
    "df.Employment.unique()"
   ]
  },
  {
   "cell_type": "code",
   "execution_count": 21,
   "id": "a18dbd9c-f00e-42c9-b24b-4a95ac686e83",
   "metadata": {},
   "outputs": [],
   "source": [
    "employment = df['Employment'].dropna().apply(lambda row: str(row).split(', or')).explode().unique()"
   ]
  },
  {
   "cell_type": "code",
   "execution_count": 22,
   "id": "7254eaf8-fd88-46c6-94df-dd0217f56ef7",
   "metadata": {},
   "outputs": [
    {
     "data": {
      "text/plain": [
       "(90,)"
      ]
     },
     "execution_count": 22,
     "metadata": {},
     "output_type": "execute_result"
    }
   ],
   "source": [
    "employment.shape"
   ]
  },
  {
   "cell_type": "code",
   "execution_count": null,
   "id": "f1832df7-a263-4de2-941b-e29778398fb7",
   "metadata": {},
   "outputs": [],
   "source": []
  }
 ],
 "metadata": {
  "kernelspec": {
   "display_name": "Python 3 (ipykernel)",
   "language": "python",
   "name": "python3"
  },
  "language_info": {
   "codemirror_mode": {
    "name": "ipython",
    "version": 3
   },
   "file_extension": ".py",
   "mimetype": "text/x-python",
   "name": "python",
   "nbconvert_exporter": "python",
   "pygments_lexer": "ipython3",
   "version": "3.11.6"
  }
 },
 "nbformat": 4,
 "nbformat_minor": 5
}
