{
 "cells": [
  {
   "cell_type": "code",
   "execution_count": 1,
   "id": "df4603e0-8e06-4c1f-951a-cd02d43c138d",
   "metadata": {},
   "outputs": [],
   "source": [
    "# importing all necessary library needed to run data/n",
"This project follows the [CRISP-DM](https://www.datasciencecentral.com/profiles/blogs/crisp-dm-a-standard-methodology-to-ensure-a-good-outcome) process to answer the followig questions:\n",
    "   - How often do developers contribute to OSS?\n",
    "   - Do Hobyist developers contribute more often to OSS?\n",
    "   - Does OSS quality perception play a bias role towards OSS contribution?\n",
    "   - Are experienced developers contributing more frequently to OSS?\n",
    "   - Do developers contributing to the OSS have a higher income?"

   ]
  },
  {
   "cell_type": "code",
   "execution_count": 51,
   "id": "cd017a61-8e99-4453-a6a2-28a36a801bf6",
   "metadata": {},
   "outputs": [],
   "source": [
    "# %load_ext autoreload\n",
    "# %autoreload 2\n",
    "import pandas as pd\n",
    "import matplotlib.pyplot as plt\n",
    "# import pygwalker as pyg"
   ]
  },
  {
   "cell_type": "code",
   "execution_count": 3,
   "id": "867813e7-403d-4f46-812c-4eac57ff7224",
   "metadata": {},
   "outputs": [],
   "source": [
    "# reading file and showing top 5 rows to see the content"
   ]
  },
  {
   "cell_type": "code",
   "execution_count": 4,
   "id": "e3ff1e32-f03b-4d7f-a110-afab0c36c68b",
   "metadata": {},
   "outputs": [],
   "source": [
    "df = pd.read_csv('survey_results_public.csv')\n",
    "schema = pd.read_csv('survey_results_schema.csv')\n",
    "# pd.set_option('display.max_columns', None)"
   ]
  },
  {
   "cell_type": "code",
   "execution_count": 5,
   "id": "36276730-5c51-4c2d-9cae-6b370825efe1",
   "metadata": {},
   "outputs": [
    {
     "data": {
      "text/plain": [
       "(89184, 84)"
      ]
     },
     "execution_count": 5,
     "metadata": {},
     "output_type": "execute_result"
    }
   ],
   "source": [
    "df.shape\n"
   ]
  },
  {
   "cell_type": "code",
   "execution_count": 6,
   "id": "5057d8bb-5654-4431-8d53-657a06967778",
   "metadata": {},
   "outputs": [
    {
     "data": {
      "text/plain": [
       "Index(['ResponseId', 'Q120', 'MainBranch', 'Age', 'Employment', 'RemoteWork',\n",
       "       'CodingActivities', 'EdLevel', 'LearnCode', 'LearnCodeOnline',\n",
       "       'LearnCodeCoursesCert', 'YearsCode', 'YearsCodePro', 'DevType',\n",
       "       'OrgSize', 'PurchaseInfluence', 'TechList', 'BuyNewTool', 'Country',\n",
       "       'Currency', 'CompTotal', 'LanguageHaveWorkedWith',\n",
       "       'LanguageWantToWorkWith', 'DatabaseHaveWorkedWith',\n",
       "       'DatabaseWantToWorkWith', 'PlatformHaveWorkedWith',\n",
       "       'PlatformWantToWorkWith', 'WebframeHaveWorkedWith',\n",
       "       'WebframeWantToWorkWith', 'MiscTechHaveWorkedWith',\n",
       "       'MiscTechWantToWorkWith', 'ToolsTechHaveWorkedWith',\n",
       "       'ToolsTechWantToWorkWith', 'NEWCollabToolsHaveWorkedWith',\n",
       "       'NEWCollabToolsWantToWorkWith', 'OpSysPersonal use',\n",
       "       'OpSysProfessional use', 'OfficeStackAsyncHaveWorkedWith',\n",
       "       'OfficeStackAsyncWantToWorkWith', 'OfficeStackSyncHaveWorkedWith',\n",
       "       'OfficeStackSyncWantToWorkWith', 'AISearchHaveWorkedWith',\n",
       "       'AISearchWantToWorkWith', 'AIDevHaveWorkedWith', 'AIDevWantToWorkWith',\n",
       "       'NEWSOSites', 'SOVisitFreq', 'SOAccount', 'SOPartFreq', 'SOComm',\n",
       "       'SOAI', 'AISelect', 'AISent', 'AIAcc', 'AIBen',\n",
       "       'AIToolInterested in Using', 'AIToolCurrently Using',\n",
       "       'AIToolNot interested in Using', 'AINextVery different',\n",
       "       'AINextNeither different nor similar', 'AINextSomewhat similar',\n",
       "       'AINextVery similar', 'AINextSomewhat different', 'TBranch', 'ICorPM',\n",
       "       'WorkExp', 'Knowledge_1', 'Knowledge_2', 'Knowledge_3', 'Knowledge_4',\n",
       "       'Knowledge_5', 'Knowledge_6', 'Knowledge_7', 'Knowledge_8',\n",
       "       'Frequency_1', 'Frequency_2', 'Frequency_3', 'TimeSearching',\n",
       "       'TimeAnswering', 'ProfessionalTech', 'Industry', 'SurveyLength',\n",
       "       'SurveyEase', 'ConvertedCompYearly'],\n",
       "      dtype='object')"
      ]
     },
     "execution_count": 6,
     "metadata": {},
     "output_type": "execute_result"
    }
   ],
   "source": [
    "df.columns"
   ]
  },
  {
   "cell_type": "code",
   "execution_count": 7,
   "id": "5166467e-12ac-436f-99f4-58ac129fd7ea",
   "metadata": {},
   "outputs": [
    {
     "data": {
      "text/html": [
       "<div>\n",
       "<style scoped>\n",
       "    .dataframe tbody tr th:only-of-type {\n",
       "        vertical-align: middle;\n",
       "    }\n",
       "\n",
       "    .dataframe tbody tr th {\n",
       "        vertical-align: top;\n",
       "    }\n",
       "\n",
       "    .dataframe thead th {\n",
       "        text-align: right;\n",
       "    }\n",
       "</style>\n",
       "<table border=\"1\" class=\"dataframe\">\n",
       "  <thead>\n",
       "    <tr style=\"text-align: right;\">\n",
       "      <th></th>\n",
       "      <th>qid</th>\n",
       "      <th>qname</th>\n",
       "      <th>question</th>\n",
       "      <th>force_resp</th>\n",
       "      <th>type</th>\n",
       "      <th>selector</th>\n",
       "    </tr>\n",
       "  </thead>\n",
       "  <tbody>\n",
       "    <tr>\n",
       "      <th>0</th>\n",
       "      <td>QID16</td>\n",
       "      <td>S0</td>\n",
       "      <td>&lt;div&gt;&lt;span style=\"font-size:19px;\"&gt;&lt;strong&gt;Hel...</td>\n",
       "      <td>False</td>\n",
       "      <td>DB</td>\n",
       "      <td>TB</td>\n",
       "    </tr>\n",
       "    <tr>\n",
       "      <th>1</th>\n",
       "      <td>QID12</td>\n",
       "      <td>MetaInfo</td>\n",
       "      <td>Browser Meta Info</td>\n",
       "      <td>False</td>\n",
       "      <td>Meta</td>\n",
       "      <td>Browser</td>\n",
       "    </tr>\n",
       "    <tr>\n",
       "      <th>2</th>\n",
       "      <td>QID310</td>\n",
       "      <td>Q310</td>\n",
       "      <td>&lt;div&gt;&lt;span style=\"font-size:19px;\"&gt;&lt;strong&gt;You...</td>\n",
       "      <td>False</td>\n",
       "      <td>DB</td>\n",
       "      <td>TB</td>\n",
       "    </tr>\n",
       "    <tr>\n",
       "      <th>3</th>\n",
       "      <td>QID312</td>\n",
       "      <td>Q120</td>\n",
       "      <td></td>\n",
       "      <td>True</td>\n",
       "      <td>MC</td>\n",
       "      <td>SAVR</td>\n",
       "    </tr>\n",
       "    <tr>\n",
       "      <th>4</th>\n",
       "      <td>QID1</td>\n",
       "      <td>S1</td>\n",
       "      <td>&lt;span style=\"font-size:22px; font-family: aria...</td>\n",
       "      <td>False</td>\n",
       "      <td>DB</td>\n",
       "      <td>TB</td>\n",
       "    </tr>\n",
       "    <tr>\n",
       "      <th>...</th>\n",
       "      <td>...</td>\n",
       "      <td>...</td>\n",
       "      <td>...</td>\n",
       "      <td>...</td>\n",
       "      <td>...</td>\n",
       "      <td>...</td>\n",
       "    </tr>\n",
       "    <tr>\n",
       "      <th>73</th>\n",
       "      <td>QID289</td>\n",
       "      <td>Knowledge_7</td>\n",
       "      <td>Waiting on answers to questions often causes i...</td>\n",
       "      <td>NaN</td>\n",
       "      <td>MC</td>\n",
       "      <td>MAVR</td>\n",
       "    </tr>\n",
       "    <tr>\n",
       "      <th>74</th>\n",
       "      <td>QID289</td>\n",
       "      <td>Knowledge_8</td>\n",
       "      <td>I feel like I have the tools and/or resources ...</td>\n",
       "      <td>NaN</td>\n",
       "      <td>MC</td>\n",
       "      <td>MAVR</td>\n",
       "    </tr>\n",
       "    <tr>\n",
       "      <th>75</th>\n",
       "      <td>QID290</td>\n",
       "      <td>Frequency_1</td>\n",
       "      <td>Needing help from people outside of your immed...</td>\n",
       "      <td>NaN</td>\n",
       "      <td>MC</td>\n",
       "      <td>MAVR</td>\n",
       "    </tr>\n",
       "    <tr>\n",
       "      <th>76</th>\n",
       "      <td>QID290</td>\n",
       "      <td>Frequency_2</td>\n",
       "      <td>Interacting with people outside of your immedi...</td>\n",
       "      <td>NaN</td>\n",
       "      <td>MC</td>\n",
       "      <td>MAVR</td>\n",
       "    </tr>\n",
       "    <tr>\n",
       "      <th>77</th>\n",
       "      <td>QID290</td>\n",
       "      <td>Frequency_3</td>\n",
       "      <td>Encountering knowledge silos (where one indivi...</td>\n",
       "      <td>NaN</td>\n",
       "      <td>MC</td>\n",
       "      <td>MAVR</td>\n",
       "    </tr>\n",
       "  </tbody>\n",
       "</table>\n",
       "<p>78 rows × 6 columns</p>\n",
       "</div>"
      ],
      "text/plain": [
       "       qid        qname                                           question  \\\n",
       "0    QID16           S0  <div><span style=\"font-size:19px;\"><strong>Hel...   \n",
       "1    QID12     MetaInfo                                  Browser Meta Info   \n",
       "2   QID310         Q310  <div><span style=\"font-size:19px;\"><strong>You...   \n",
       "3   QID312         Q120                                                      \n",
       "4     QID1           S1  <span style=\"font-size:22px; font-family: aria...   \n",
       "..     ...          ...                                                ...   \n",
       "73  QID289  Knowledge_7  Waiting on answers to questions often causes i...   \n",
       "74  QID289  Knowledge_8  I feel like I have the tools and/or resources ...   \n",
       "75  QID290  Frequency_1  Needing help from people outside of your immed...   \n",
       "76  QID290  Frequency_2  Interacting with people outside of your immedi...   \n",
       "77  QID290  Frequency_3  Encountering knowledge silos (where one indivi...   \n",
       "\n",
       "   force_resp  type selector  \n",
       "0       False    DB       TB  \n",
       "1       False  Meta  Browser  \n",
       "2       False    DB       TB  \n",
       "3        True    MC     SAVR  \n",
       "4       False    DB       TB  \n",
       "..        ...   ...      ...  \n",
       "73        NaN    MC     MAVR  \n",
       "74        NaN    MC     MAVR  \n",
       "75        NaN    MC     MAVR  \n",
       "76        NaN    MC     MAVR  \n",
       "77        NaN    MC     MAVR  \n",
       "\n",
       "[78 rows x 6 columns]"
      ]
     },
     "execution_count": 7,
     "metadata": {},
     "output_type": "execute_result"
    }
   ],
   "source": [
    "schema"
   ]
  },
  {
   "cell_type": "code",
   "execution_count": 8,
   "id": "b14e8efe-32cc-449f-9b84-0ded831f5fc4",
   "metadata": {},
   "outputs": [],
   "source": [
    "# Droping columns that irrelevant to the data"
   ]
  },
  {
   "cell_type": "code",
   "execution_count": 16,
   "id": "ee472e50-f70d-4c62-a152-a5c64d5a4ce9",
   "metadata": {},
   "outputs": [],
   "source": [
    "df.drop(columns=df.columns[33:74], inplace=True)"
   ]
  },
  {
   "cell_type": "code",
   "execution_count": 10,
   "id": "e767209d-22f9-48b2-8871-b309e9e9832e",
   "metadata": {},
   "outputs": [
    {
     "data": {
      "text/plain": [
       "(89184, 43)"
      ]
     },
     "execution_count": 10,
     "metadata": {},
     "output_type": "execute_result"
    }
   ],
   "source": [
    "df.shape"
   ]
  },
  {
   "cell_type": "code",
   "execution_count": null,
   "id": "803de675-6f09-4815-bef0-a0a19416f8d2",
   "metadata": {},
   "outputs": [],
   "source": []
  },
  {
   "cell_type": "code",
   "execution_count": 11,
   "id": "9f0b4cd7-15d0-4647-b676-2df5f2775429",
   "metadata": {},
   "outputs": [],
   "source": [
    "# Checking the ratio of missing values in the Dataframe "
   ]
  },
  {
   "cell_type": "code",
   "execution_count": 21,
   "id": "3c61aad4-f0ba-455a-a445-73d74500a25f",
   "metadata": {},
   "outputs": [
    {
     "data": {
      "text/html": [
       "<div>\n",
       "<style scoped>\n",
       "    .dataframe tbody tr th:only-of-type {\n",
       "        vertical-align: middle;\n",
       "    }\n",
       "\n",
       "    .dataframe tbody tr th {\n",
       "        vertical-align: top;\n",
       "    }\n",
       "\n",
       "    .dataframe thead th {\n",
       "        text-align: right;\n",
       "    }\n",
       "</style>\n",
       "<table border=\"1\" class=\"dataframe\">\n",
       "  <thead>\n",
       "    <tr style=\"text-align: right;\">\n",
       "      <th></th>\n",
       "      <th>column_name</th>\n",
       "      <th>percent_missing</th>\n",
       "    </tr>\n",
       "  </thead>\n",
       "  <tbody>\n",
       "    <tr>\n",
       "      <th>ResponseId</th>\n",
       "      <td>ResponseId</td>\n",
       "      <td>0.000000</td>\n",
       "    </tr>\n",
       "    <tr>\n",
       "      <th>Q120</th>\n",
       "      <td>Q120</td>\n",
       "      <td>0.000000</td>\n",
       "    </tr>\n",
       "    <tr>\n",
       "      <th>MainBranch</th>\n",
       "      <td>MainBranch</td>\n",
       "      <td>0.000000</td>\n",
       "    </tr>\n",
       "    <tr>\n",
       "      <th>Age</th>\n",
       "      <td>Age</td>\n",
       "      <td>0.000000</td>\n",
       "    </tr>\n",
       "    <tr>\n",
       "      <th>Country</th>\n",
       "      <td>Country</td>\n",
       "      <td>1.357867</td>\n",
       "    </tr>\n",
       "    <tr>\n",
       "      <th>EdLevel</th>\n",
       "      <td>EdLevel</td>\n",
       "      <td>1.357867</td>\n",
       "    </tr>\n",
       "    <tr>\n",
       "      <th>Employment</th>\n",
       "      <td>Employment</td>\n",
       "      <td>1.441963</td>\n",
       "    </tr>\n",
       "    <tr>\n",
       "      <th>LearnCode</th>\n",
       "      <td>LearnCode</td>\n",
       "      <td>1.705463</td>\n",
       "    </tr>\n",
       "    <tr>\n",
       "      <th>YearsCode</th>\n",
       "      <td>YearsCode</td>\n",
       "      <td>1.961114</td>\n",
       "    </tr>\n",
       "    <tr>\n",
       "      <th>LanguageHaveWorkedWith</th>\n",
       "      <td>LanguageHaveWorkedWith</td>\n",
       "      <td>2.291891</td>\n",
       "    </tr>\n",
       "    <tr>\n",
       "      <th>BuyNewTool</th>\n",
       "      <td>BuyNewTool</td>\n",
       "      <td>6.923888</td>\n",
       "    </tr>\n",
       "    <tr>\n",
       "      <th>LanguageWantToWorkWith</th>\n",
       "      <td>LanguageWantToWorkWith</td>\n",
       "      <td>9.502826</td>\n",
       "    </tr>\n",
       "    <tr>\n",
       "      <th>ToolsTechHaveWorkedWith</th>\n",
       "      <td>ToolsTechHaveWorkedWith</td>\n",
       "      <td>12.670434</td>\n",
       "    </tr>\n",
       "    <tr>\n",
       "      <th>DevType</th>\n",
       "      <td>DevType</td>\n",
       "      <td>13.805167</td>\n",
       "    </tr>\n",
       "    <tr>\n",
       "      <th>RemoteWork</th>\n",
       "      <td>RemoteWork</td>\n",
       "      <td>17.238518</td>\n",
       "    </tr>\n",
       "    <tr>\n",
       "      <th>CodingActivities</th>\n",
       "      <td>CodingActivities</td>\n",
       "      <td>17.290097</td>\n",
       "    </tr>\n",
       "    <tr>\n",
       "      <th>DatabaseHaveWorkedWith</th>\n",
       "      <td>DatabaseHaveWorkedWith</td>\n",
       "      <td>17.658997</td>\n",
       "    </tr>\n",
       "    <tr>\n",
       "      <th>LearnCodeOnline</th>\n",
       "      <td>LearnCodeOnline</td>\n",
       "      <td>21.416398</td>\n",
       "    </tr>\n",
       "    <tr>\n",
       "      <th>ToolsTechWantToWorkWith</th>\n",
       "      <td>ToolsTechWantToWorkWith</td>\n",
       "      <td>23.399937</td>\n",
       "    </tr>\n",
       "    <tr>\n",
       "      <th>WebframeHaveWorkedWith</th>\n",
       "      <td>WebframeHaveWorkedWith</td>\n",
       "      <td>24.943936</td>\n",
       "    </tr>\n",
       "    <tr>\n",
       "      <th>YearsCodePro</th>\n",
       "      <td>YearsCodePro</td>\n",
       "      <td>25.843201</td>\n",
       "    </tr>\n",
       "    <tr>\n",
       "      <th>Currency</th>\n",
       "      <td>Currency</td>\n",
       "      <td>26.742465</td>\n",
       "    </tr>\n",
       "    <tr>\n",
       "      <th>OrgSize</th>\n",
       "      <td>OrgSize</td>\n",
       "      <td>27.068757</td>\n",
       "    </tr>\n",
       "    <tr>\n",
       "      <th>PurchaseInfluence</th>\n",
       "      <td>PurchaseInfluence</td>\n",
       "      <td>27.157338</td>\n",
       "    </tr>\n",
       "    <tr>\n",
       "      <th>PlatformHaveWorkedWith</th>\n",
       "      <td>PlatformHaveWorkedWith</td>\n",
       "      <td>28.655364</td>\n",
       "    </tr>\n",
       "    <tr>\n",
       "      <th>DatabaseWantToWorkWith</th>\n",
       "      <td>DatabaseWantToWorkWith</td>\n",
       "      <td>31.701875</td>\n",
       "    </tr>\n",
       "    <tr>\n",
       "      <th>TechList</th>\n",
       "      <td>TechList</td>\n",
       "      <td>31.769151</td>\n",
       "    </tr>\n",
       "    <tr>\n",
       "      <th>MiscTechHaveWorkedWith</th>\n",
       "      <td>MiscTechHaveWorkedWith</td>\n",
       "      <td>36.065886</td>\n",
       "    </tr>\n",
       "    <tr>\n",
       "      <th>WebframeWantToWorkWith</th>\n",
       "      <td>WebframeWantToWorkWith</td>\n",
       "      <td>36.377601</td>\n",
       "    </tr>\n",
       "    <tr>\n",
       "      <th>PlatformWantToWorkWith</th>\n",
       "      <td>PlatformWantToWorkWith</td>\n",
       "      <td>42.469501</td>\n",
       "    </tr>\n",
       "  </tbody>\n",
       "</table>\n",
       "</div>"
      ],
      "text/plain": [
       "                                     column_name  percent_missing\n",
       "ResponseId                            ResponseId         0.000000\n",
       "Q120                                        Q120         0.000000\n",
       "MainBranch                            MainBranch         0.000000\n",
       "Age                                          Age         0.000000\n",
       "Country                                  Country         1.357867\n",
       "EdLevel                                  EdLevel         1.357867\n",
       "Employment                            Employment         1.441963\n",
       "LearnCode                              LearnCode         1.705463\n",
       "YearsCode                              YearsCode         1.961114\n",
       "LanguageHaveWorkedWith    LanguageHaveWorkedWith         2.291891\n",
       "BuyNewTool                            BuyNewTool         6.923888\n",
       "LanguageWantToWorkWith    LanguageWantToWorkWith         9.502826\n",
       "ToolsTechHaveWorkedWith  ToolsTechHaveWorkedWith        12.670434\n",
       "DevType                                  DevType        13.805167\n",
       "RemoteWork                            RemoteWork        17.238518\n",
       "CodingActivities                CodingActivities        17.290097\n",
       "DatabaseHaveWorkedWith    DatabaseHaveWorkedWith        17.658997\n",
       "LearnCodeOnline                  LearnCodeOnline        21.416398\n",
       "ToolsTechWantToWorkWith  ToolsTechWantToWorkWith        23.399937\n",
       "WebframeHaveWorkedWith    WebframeHaveWorkedWith        24.943936\n",
       "YearsCodePro                        YearsCodePro        25.843201\n",
       "Currency                                Currency        26.742465\n",
       "OrgSize                                  OrgSize        27.068757\n",
       "PurchaseInfluence              PurchaseInfluence        27.157338\n",
       "PlatformHaveWorkedWith    PlatformHaveWorkedWith        28.655364\n",
       "DatabaseWantToWorkWith    DatabaseWantToWorkWith        31.701875\n",
       "TechList                                TechList        31.769151\n",
       "MiscTechHaveWorkedWith    MiscTechHaveWorkedWith        36.065886\n",
       "WebframeWantToWorkWith    WebframeWantToWorkWith        36.377601\n",
       "PlatformWantToWorkWith    PlatformWantToWorkWith        42.469501"
      ]
     },
     "execution_count": 21,
     "metadata": {},
     "output_type": "execute_result"
    }
   ],
   "source": [
    "percent_missing = df.isnull().sum() * 100 / len(df)\n",
    "missing_value_df = pd.DataFrame({'column_name': df.columns,'percent_missing': percent_missing})\n",
    "missing_value_df.sort_values('percent_missing',ascending=True)[:30]"
   ]
  },
  {
   "cell_type": "code",
   "execution_count": 22,
   "id": "b5069b3a-009f-4774-b41f-659e55bb8e20",
   "metadata": {},
   "outputs": [
    {
     "name": "stdout",
     "output_type": "stream",
     "text": [
      "columns with no missing values:  {'ResponseId', 'Q120', 'Age', 'MainBranch'}\n"
     ]
    }
   ],
   "source": [
    "print(\"columns with no missing values: \", set(df.columns[df.isnull().mean() == 0.0]))"
   ]
  },
  {
   "cell_type": "code",
   "execution_count": 40,
   "id": "259ef3c1-43e7-4f0f-8d57-fd4a05e35bd5",
   "metadata": {},
   "outputs": [
    {
     "data": {
      "text/plain": [
       "Age\n",
       "55-64 years old        3.803373\n",
       "Under 18 years old     4.628633\n",
       "45-54 years old        9.344726\n",
       "18-24 years old       20.105624\n",
       "35-44 years old       23.022067\n",
       "25-34 years old       37.279108\n",
       "Name: count, dtype: float64"
      ]
     },
     "execution_count": 40,
     "metadata": {},
     "output_type": "execute_result"
    }
   ],
   "source": [
    "age_vals = df.Age.value_counts(ascending = True)\n",
    "age_vals_percentage = (age_vals[2:] * 100 / df.Age.dropna().shape[0])\n",
    "age_vals_percentage"
   ]
  },
  {
   "cell_type": "code",
   "execution_count": 49,
   "id": "7214dce3-bc62-41b9-b237-6c8e89f4d858",
   "metadata": {},
   "outputs": [
    {
     "data": {
      "image/png": "[encoded data removed]",
      "text/plain": [
       "<Figure size 800x400 with 1 Axes>"
      ]
     },
     "metadata": {},
     "output_type": "display_data"
    }
   ],
   "source": [
    "\n",
    "plt.ylabel(\"Age in %\")\n",
    "plt.title(\"Average Respondant Age Group\")\n",
    "ax = age_vals_percentage.plot(kind=\"bar\",figsize=(8,4), width = 0.8, edgecolor=None, color=\"steelblue\")\n",
    "plt.show()"
   ]
  },
  {
   "cell_type": "code",
   "execution_count": null,
   "id": "e9d9dd3d-c714-4d8a-a92f-c239f48b9608",
   "metadata": {},
   "outputs": [],
   "source": []
  },
  {
   "cell_type": "code",
   "execution_count": null,
   "id": "7237f6de-8459-4912-94ce-9b5cd9837549",
   "metadata": {},
   "outputs": [],
   "source": []
  },
  {
   "cell_type": "code",
   "execution_count": null,
   "id": "3508a763-3c38-4050-802d-3cf576123321",
   "metadata": {},
   "outputs": [],
   "source": []
  }
 ],
 "metadata": {
  "kernelspec": {
   "display_name": "Python 3 (ipykernel)",
   "language": "python",
   "name": "python3"
  },
  "language_info": {
   "codemirror_mode": {
    "name": "ipython",
    "version": 3
   },
   "file_extension": ".py",
   "mimetype": "text/x-python",
   "name": "python",
   "nbconvert_exporter": "python",
   "pygments_lexer": "ipython3",
   "version": "3.9.6"
  }
 },
 "nbformat": 4,
 "nbformat_minor": 5
}
